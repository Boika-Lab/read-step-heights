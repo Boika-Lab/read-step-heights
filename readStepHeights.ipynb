{
  "nbformat": 4,
  "nbformat_minor": 0,
  "metadata": {
    "colab": {
      "provenance": [],
      "toc_visible": true
    },
    "kernelspec": {
      "name": "python3",
      "display_name": "Python 3"
    },
    "language_info": {
      "name": "python"
    }
  },
  "cells": [
    {
      "cell_type": "code",
      "source": [
        "import numpy as np\n",
        "import pandas as pd\n",
        "import matplotlib.pyplot as plt\n",
        "import statistics"
      ],
      "metadata": {
        "id": "VCNLFVsce4q6"
      },
      "execution_count": null,
      "outputs": []
    },
    {
      "cell_type": "markdown",
      "source": [
        "# Change your file name here"
      ],
      "metadata": {
        "id": "9eYZgyP47vKY"
      }
    },
    {
      "cell_type": "code",
      "execution_count": null,
      "metadata": {
        "id": "HK8uYOj7Pl9Q"
      },
      "outputs": [],
      "source": [
        "# read and clean data\n",
        "\n",
        "it_df = pd.read_csv(\"i-t_example1.txt\", header=0)    # \"i-t_example1.txt\" is converted from CHI software directly\n",
        "it_df = it_df.drop(range(0,13))   # drop the unused data\n",
        "it_df = it_df.reset_index(drop=True)   # reset it_df index\n",
        "it_df.columns = ['Time(s)', 'Current(A)']   # Renaming the columns name"
      ]
    },
    {
      "cell_type": "code",
      "source": [
        "# display all rows\n",
        "\n",
        "# pd.set_option('display.max_rows', None)\n",
        "# it_df"
      ],
      "metadata": {
        "id": "pc3m1BfH1luS"
      },
      "execution_count": null,
      "outputs": []
    },
    {
      "cell_type": "code",
      "source": [
        "# Convert data from string to float type\n",
        "it_df = it_df.astype('float')"
      ],
      "metadata": {
        "id": "HlTDAnpZ2XDY"
      },
      "execution_count": null,
      "outputs": []
    },
    {
      "cell_type": "code",
      "source": [
        "plt.figure(figsize=(9,6))\n",
        "plt.plot(it_df['Time(s)'], it_df['Current(A)'])\n",
        "\n",
        "# Set the interval of xticks.\n",
        "listOf_Xticks = np.arange(0, max(it_df['Time(s)']), max(it_df['Time(s)'])/10)\n",
        "plt.xticks(listOf_Xticks)\n",
        "# Set the interval of yticks.\n",
        "listOf_Yticks = np.arange(min(it_df['Current(A)']), max(it_df['Current(A)']), abs(max(it_df['Current(A)'])-min(it_df['Current(A)']))/10)\n",
        "plt.yticks(listOf_Yticks)\n",
        "\n",
        "# Set the x and y label\n",
        "plt.xlabel(\"Time (s)\")\n",
        "plt.ylabel(\"Current (A)\")\n",
        "# Giving title to the plot\n",
        "plt.title('time current cuve')\n",
        "\n",
        "plt.show()"
      ],
      "metadata": {
        "colab": {
          "base_uri": "https://localhost:8080/",
          "height": 404
        },
        "id": "b3PhedC4RfO-",
        "outputId": "8b25e01e-9a72-40ee-dedc-6b134fb11eb8"
      },
      "execution_count": null,
      "outputs": [
        {
          "output_type": "display_data",
          "data": {
            "text/plain": [
              "<Figure size 648x432 with 1 Axes>"
            ],
            "image/png": "[encoded data removed]"
          },
          "metadata": {
            "needs_background": "light"
          }
        }
      ]
    },
    {
      "cell_type": "markdown",
      "source": [
        "# Set parameters here"
      ],
      "metadata": {
        "id": "4QZ_5AKH3poh"
      }
    },
    {
      "cell_type": "code",
      "source": [
        "# Set parameters here\n",
        "start_analysis_time = 40    # Set when to start analysis in order to get rid of unstable data at beginning. The unit is second\n",
        "\n",
        "sample_interval = 0.1    # Set the sample interval. For CHI instrument, this is your 'Sample Interval(sec)'\n",
        "threshold_slope_ratio = 15   # Default is 10. Set this ratio to get slope threshold"
      ],
      "metadata": {
        "id": "4zBzH409qLQS"
      },
      "execution_count": null,
      "outputs": []
    },
    {
      "cell_type": "code",
      "source": [
        "# drop the beginning data\n",
        "\n",
        "start_analysis_index_list = it_df.index[it_df['Time(s)'] == float(start_analysis_time)].to_list()   # find index based on time\n",
        "start_analysis_index = start_analysis_index_list[0]\n",
        "it_df = it_df.drop(range(0, start_analysis_index))   # drop the beginning data\n",
        "it_df = it_df.reset_index(drop=True)   # reset it_df index"
      ],
      "metadata": {
        "id": "jap_BMnHh27f"
      },
      "execution_count": null,
      "outputs": []
    },
    {
      "cell_type": "code",
      "source": [
        "plt.figure(figsize=(9,6))\n",
        "plt.plot(it_df['Time(s)'], it_df['Current(A)'])\n",
        "\n",
        "# Set the interval of xticks.\n",
        "listOf_Xticks = np.arange(0, max(it_df['Time(s)']), max(it_df['Time(s)'])/10)\n",
        "plt.xticks(listOf_Xticks)\n",
        "# Set the interval of yticks.\n",
        "listOf_Yticks = np.arange(min(it_df['Current(A)']), max(it_df['Current(A)']), abs(max(it_df['Current(A)'])-min(it_df['Current(A)']))/10)\n",
        "plt.yticks(listOf_Yticks)\n",
        "\n",
        "# Set the x and y label\n",
        "plt.xlabel(\"Time (s)\")\n",
        "plt.ylabel(\"Current (A)\")\n",
        "# Giving title to the plot\n",
        "plt.title('time current cuve')\n",
        "\n",
        "plt.show()"
      ],
      "metadata": {
        "colab": {
          "base_uri": "https://localhost:8080/",
          "height": 404
        },
        "id": "8odJHyY_3xqC",
        "outputId": "7884891a-30f6-4865-986c-e775a7442592"
      },
      "execution_count": null,
      "outputs": [
        {
          "output_type": "display_data",
          "data": {
            "text/plain": [
              "<Figure size 648x432 with 1 Axes>"
            ],
            "image/png": "[encoded data removed]"
          },
          "metadata": {
            "needs_background": "light"
          }
        }
      ]
    },
    {
      "cell_type": "code",
      "source": [
        "slope_list = []\n",
        "for i in range(11):\n",
        "    current_next = float(it_df.iloc[i+1, 1])\n",
        "    current_now = float(it_df.iloc[i, 1])\n",
        "    time_next=float(it_df.iloc[i+1,0])\n",
        "    time_now=float(it_df.iloc[i-1,0])\n",
        "\n",
        "    dif_current = current_next - current_now\n",
        "    dif_time=time_next - time_now\n",
        "    slope = dif_current/dif_time\n",
        "    slope = abs(slope)\n",
        "    slope_list.append(slope)\n",
        "\n",
        "# We took absolute median value of first 11 points as slope\n",
        "slope =  abs(statistics.median(slope_list))\n",
        "threshold_slope = slope * threshold_slope_ratio\n",
        "threshold_slope   # slope that is larger than threshold_slope will considered step height"
      ],
      "metadata": {
        "colab": {
          "base_uri": "https://localhost:8080/"
        },
        "id": "htewZ7GNrXqj",
        "outputId": "03b4936d-e915-451c-d371-6c9dd9aa415a"
      },
      "execution_count": null,
      "outputs": [
        {
          "output_type": "execute_result",
          "data": {
            "text/plain": [
              "5.99999999998956e-12"
            ]
          },
          "metadata": {},
          "execution_count": 30
        }
      ]
    },
    {
      "cell_type": "code",
      "source": [
        "# read block step height\n",
        "\n",
        "index_pre = -1\n",
        "blockDF = pd.DataFrame(columns = ['time(s)', 'step height(A)'])\n",
        "\n",
        "for index, row in it_df.iterrows():\n",
        "    if index == len(it_df['Time(s)'])-1:\n",
        "        break\n",
        "    else: \n",
        "        current_next = float(it_df.iloc[index+1, 1])\n",
        "        current_now = float(it_df.iloc[index, 1])\n",
        "        time_next=float(it_df.iloc[index+1,0])\n",
        "        time_now=float(it_df.iloc[index-1,0])\n",
        "        \n",
        "        dif_current = current_next - current_now\n",
        "        dif_time=time_next - time_now\n",
        "        slope = dif_current/dif_time\n",
        "        one_step_height = dif_current\n",
        "        \n",
        "        if slope > threshold_slope:\n",
        "            if index - index_pre == 1:\n",
        "                step_height = step_height + one_step_height\n",
        "            else:\n",
        "                step_height= dif_current\n",
        "            oneStepHeight_df = pd.DataFrame([[it_df.iloc[index,0], step_height]], columns=['time(s)', 'step height(A)'])\n",
        "            blockDF = pd.concat([blockDF, oneStepHeight_df], ignore_index = True)\n",
        "        else:\n",
        "            step_height = 0       \n",
        "        index_pre = index_pre + 1\n",
        "\n",
        "# blockDF"
      ],
      "metadata": {
        "id": "-cU_lI01RpJo"
      },
      "execution_count": null,
      "outputs": []
    },
    {
      "cell_type": "code",
      "source": [
        "# combine closed step height\n",
        "\n",
        "blockDF_cumu = blockDF.copy()\n",
        "for index, row in blockDF.iterrows():\n",
        "    if index == 0:\n",
        "        continue\n",
        "    else:\n",
        "        time1 = float(blockDF.iloc[index-1,0])\n",
        "        time2 = float(blockDF.iloc[index,0])\n",
        "        time_dif = round(time2-time1, 2)\n",
        "        if time_dif == float(sample_interval):\n",
        "            step_height = float(blockDF_cumu.iloc[index-1,1]) + float(blockDF.iloc[index,1])\n",
        "            blockDF_cumu['step height(A)'].iloc[index] = step_height\n",
        "block2_DF = blockDF_cumu.copy()\n",
        "\n",
        "for index, row in blockDF_cumu.iterrows():\n",
        "    if index == 0:\n",
        "        continue\n",
        "    else:\n",
        "        time1 = float(blockDF_cumu.iloc[index-1,0])\n",
        "        time2 = float(blockDF_cumu.iloc[index,0])\n",
        "        time_dif = round(time2-time1, 2)\n",
        "        if time_dif == float(sample_interval):  \n",
        "            block2_DF = block2_DF.drop([index-1])\n",
        "            \n",
        "block2_DF = block2_DF.reset_index(drop=True)\n",
        "block2_DF"
      ],
      "metadata": {
        "id": "N3fGRT71Rriw",
        "colab": {
          "base_uri": "https://localhost:8080/",
          "height": 394
        },
        "outputId": "0d803ad9-c727-4079-bf10-b7730b8d0feb"
      },
      "execution_count": null,
      "outputs": [
        {
          "output_type": "execute_result",
          "data": {
            "text/plain": [
              "     time(s)  step height(A)\n",
              "0    49.5998    7.370000e-12\n",
              "1    54.7997    9.140000e-12\n",
              "2    73.4995    4.960000e-12\n",
              "3    76.9994    4.720000e-12\n",
              "4    86.2993    1.430000e-12\n",
              "5    86.6992    3.410000e-12\n",
              "6    92.3992    9.250000e-12\n",
              "7   105.4990    1.360000e-12\n",
              "8   105.8990    1.870000e-12\n",
              "9   115.5990    6.480000e-12\n",
              "10  117.8990    8.620000e-12"
            ],
            "text/html": [
              "\n",
              "  <div id=\"df-378caa9b-6c65-4126-87b1-3610b94c1559\">\n",
              "    <div class=\"colab-df-container\">\n",
              "      <div>\n",
              "<style scoped>\n",
              "    .dataframe tbody tr th:only-of-type {\n",
              "        vertical-align: middle;\n",
              "    }\n",
              "\n",
              "    .dataframe tbody tr th {\n",
              "        vertical-align: top;\n",
              "    }\n",
              "\n",
              "    .dataframe thead th {\n",
              "        text-align: right;\n",
              "    }\n",
              "</style>\n",
              "<table border=\"1\" class=\"dataframe\">\n",
              "  <thead>\n",
              "    <tr style=\"text-align: right;\">\n",
              "      <th></th>\n",
              "      <th>time(s)</th>\n",
              "      <th>step height(A)</th>\n",
              "    </tr>\n",
              "  </thead>\n",
              "  <tbody>\n",
              "    <tr>\n",
              "      <th>0</th>\n",
              "      <td>49.5998</td>\n",
              "      <td>7.370000e-12</td>\n",
              "    </tr>\n",
              "    <tr>\n",
              "      <th>1</th>\n",
              "      <td>54.7997</td>\n",
              "      <td>9.140000e-12</td>\n",
              "    </tr>\n",
              "    <tr>\n",
              "      <th>2</th>\n",
              "      <td>73.4995</td>\n",
              "      <td>4.960000e-12</td>\n",
              "    </tr>\n",
              "    <tr>\n",
              "      <th>3</th>\n",
              "      <td>76.9994</td>\n",
              "      <td>4.720000e-12</td>\n",
              "    </tr>\n",
              "    <tr>\n",
              "      <th>4</th>\n",
              "      <td>86.2993</td>\n",
              "      <td>1.430000e-12</td>\n",
              "    </tr>\n",
              "    <tr>\n",
              "      <th>5</th>\n",
              "      <td>86.6992</td>\n",
              "      <td>3.410000e-12</td>\n",
              "    </tr>\n",
              "    <tr>\n",
              "      <th>6</th>\n",
              "      <td>92.3992</td>\n",
              "      <td>9.250000e-12</td>\n",
              "    </tr>\n",
              "    <tr>\n",
              "      <th>7</th>\n",
              "      <td>105.4990</td>\n",
              "      <td>1.360000e-12</td>\n",
              "    </tr>\n",
              "    <tr>\n",
              "      <th>8</th>\n",
              "      <td>105.8990</td>\n",
              "      <td>1.870000e-12</td>\n",
              "    </tr>\n",
              "    <tr>\n",
              "      <th>9</th>\n",
              "      <td>115.5990</td>\n",
              "      <td>6.480000e-12</td>\n",
              "    </tr>\n",
              "    <tr>\n",
              "      <th>10</th>\n",
              "      <td>117.8990</td>\n",
              "      <td>8.620000e-12</td>\n",
              "    </tr>\n",
              "  </tbody>\n",
              "</table>\n",
              "</div>\n",
              "      <button class=\"colab-df-convert\" onclick=\"convertToInteractive('df-378caa9b-6c65-4126-87b1-3610b94c1559')\"\n",
              "              title=\"Convert this dataframe to an interactive table.\"\n",
              "              style=\"display:none;\">\n",
              "        \n",
              "  <svg xmlns=\"http://www.w3.org/2000/svg\" height=\"24px\"viewBox=\"0 0 24 24\"\n",
              "       width=\"24px\">\n",
              "    <path d=\"M0 0h24v24H0V0z\" fill=\"none\"/>\n",
              "    <path d=\"M18.56 5.44l.94 2.06.94-2.06 2.06-.94-2.06-.94-.94-2.06-.94 2.06-2.06.94zm-11 1L8.5 8.5l.94-2.06 2.06-.94-2.06-.94L8.5 2.5l-.94 2.06-2.06.94zm10 10l.94 2.06.94-2.06 2.06-.94-2.06-.94-.94-2.06-.94 2.06-2.06.94z\"/><path d=\"M17.41 7.96l-1.37-1.37c-.4-.4-.92-.59-1.43-.59-.52 0-1.04.2-1.43.59L10.3 9.45l-7.72 7.72c-.78.78-.78 2.05 0 2.83L4 21.41c.39.39.9.59 1.41.59.51 0 1.02-.2 1.41-.59l7.78-7.78 2.81-2.81c.8-.78.8-2.07 0-2.86zM5.41 20L4 18.59l7.72-7.72 1.47 1.35L5.41 20z\"/>\n",
              "  </svg>\n",
              "      </button>\n",
              "      \n",
              "  <style>\n",
              "    .colab-df-container {\n",
              "      display:flex;\n",
              "      flex-wrap:wrap;\n",
              "      gap: 12px;\n",
              "    }\n",
              "\n",
              "    .colab-df-convert {\n",
              "      background-color: #E8F0FE;\n",
              "      border: none;\n",
              "      border-radius: 50%;\n",
              "      cursor: pointer;\n",
              "      display: none;\n",
              "      fill: #1967D2;\n",
              "      height: 32px;\n",
              "      padding: 0 0 0 0;\n",
              "      width: 32px;\n",
              "    }\n",
              "\n",
              "    .colab-df-convert:hover {\n",
              "      background-color: #E2EBFA;\n",
              "      box-shadow: 0px 1px 2px rgba(60, 64, 67, 0.3), 0px 1px 3px 1px rgba(60, 64, 67, 0.15);\n",
              "      fill: #174EA6;\n",
              "    }\n",
              "\n",
              "    [theme=dark] .colab-df-convert {\n",
              "      background-color: #3B4455;\n",
              "      fill: #D2E3FC;\n",
              "    }\n",
              "\n",
              "    [theme=dark] .colab-df-convert:hover {\n",
              "      background-color: #434B5C;\n",
              "      box-shadow: 0px 1px 3px 1px rgba(0, 0, 0, 0.15);\n",
              "      filter: drop-shadow(0px 1px 2px rgba(0, 0, 0, 0.3));\n",
              "      fill: #FFFFFF;\n",
              "    }\n",
              "  </style>\n",
              "\n",
              "      <script>\n",
              "        const buttonEl =\n",
              "          document.querySelector('#df-378caa9b-6c65-4126-87b1-3610b94c1559 button.colab-df-convert');\n",
              "        buttonEl.style.display =\n",
              "          google.colab.kernel.accessAllowed ? 'block' : 'none';\n",
              "\n",
              "        async function convertToInteractive(key) {\n",
              "          const element = document.querySelector('#df-378caa9b-6c65-4126-87b1-3610b94c1559');\n",
              "          const dataTable =\n",
              "            await google.colab.kernel.invokeFunction('convertToInteractive',\n",
              "                                                     [key], {});\n",
              "          if (!dataTable) return;\n",
              "\n",
              "          const docLinkHtml = 'Like what you see? Visit the ' +\n",
              "            '<a target=\"_blank\" href=https://colab.research.google.com/notebooks/data_table.ipynb>data table notebook</a>'\n",
              "            + ' to learn more about interactive tables.';\n",
              "          element.innerHTML = '';\n",
              "          dataTable['output_type'] = 'display_data';\n",
              "          await google.colab.output.renderOutput(dataTable, element);\n",
              "          const docLink = document.createElement('div');\n",
              "          docLink.innerHTML = docLinkHtml;\n",
              "          element.appendChild(docLink);\n",
              "        }\n",
              "      </script>\n",
              "    </div>\n",
              "  </div>\n",
              "  "
            ]
          },
          "metadata": {},
          "execution_count": 32
        }
      ]
    },
    {
      "cell_type": "code",
      "source": [
        "block2_DF.to_excel('block events.xlsx')"
      ],
      "metadata": {
        "id": "jxqYDD7zRvYG"
      },
      "execution_count": null,
      "outputs": []
    },
    {
      "cell_type": "code",
      "source": [],
      "metadata": {
        "id": "sg1JiXBhkveW"
      },
      "execution_count": null,
      "outputs": []
    }
  ]
}